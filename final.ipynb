{
 "cells": [
  {
   "cell_type": "code",
   "execution_count": null,
   "metadata": {},
   "outputs": [],
   "source": [
    "import requests\n",
    "import json\n",
    "import os\n",
    "import numpy as np\n",
    "import pandas as pd"
   ]
  },
  {
   "cell_type": "code",
   "execution_count": null,
   "metadata": {},
   "outputs": [],
   "source": [
    "#Test url from atlas website to see if it works\n",
    "url = \"https://api.phila.gov/ais/v1/search/212578?gatekeeperKey=82fe014b6575b8c38b44235580bc8b11&include_units=true\"\n",
    "# Execute create deck url\n",
    "response_data = requests.get(url).json()\n",
    "response_data"
   ]
  },
  {
   "cell_type": "code",
   "execution_count": null,
   "metadata": {},
   "outputs": [],
   "source": [
    "#Test to see if I can get zoning id \n",
    "response_data['features'][0]['properties']['zoning']"
   ]
  },
  {
   "cell_type": "code",
   "execution_count": null,
   "metadata": {},
   "outputs": [],
   "source": [
    "#Check the csv file with the given addresses\n",
    "list_df = pd.read_csv(\"OPA list.xlsx - Auction List.csv\")\n",
    "list_df"
   ]
  },
  {
   "cell_type": "code",
   "execution_count": null,
   "metadata": {},
   "outputs": [],
   "source": [
    "#Create code that iterates through addresses in df and inserts each into api address\n",
    "def get_json(filepath):\n",
    "    json_file = [] \n",
    "    df = pd.read_csv(filepath)\n",
    "    for addresses in df['Address']:\n",
    "        urlcall = f'https://api.phila.gov/ais/v1/search/{addresses}?gatekeeperKey=82fe014b6575b8c38b44235580bc8b11&include_units=true'\n",
    "        urlcallJSON = requests.get(urlcall).json()\n",
    "        json_file.append(urlcallJSON)\n",
    "    return json_file"
   ]
  },
  {
   "cell_type": "code",
   "execution_count": null,
   "metadata": {},
   "outputs": [],
   "source": [
    "#Test code \n",
    "get_json(\"OPA list.xlsx - Auction List.csv\")"
   ]
  },
  {
   "cell_type": "code",
   "execution_count": null,
   "metadata": {},
   "outputs": [],
   "source": [
    "#def get_zoning(df):\n",
    "    #dict = get_url(df)\n",
    "    #zoning = dict['features'][0]['properties']['zoning']\n",
    "    #return zoning"
   ]
  },
  {
   "cell_type": "code",
   "execution_count": null,
   "metadata": {},
   "outputs": [],
   "source": [
    "#Turn JSON file into a dataframe that returns the needed information\n",
    "def create_df(filepath):\n",
    "    zone = get_json(filepath)\n",
    "\n",
    "    new_df = []\n",
    "    for keys in zone:\n",
    "        try:\n",
    "            opa = keys['features'][0]['properties']['opa_account_num']\n",
    "            address = keys['query']\n",
    "            district_zone = keys['features'][0]['properties']['zoning']\n",
    "\n",
    "            new_df.append({\n",
    "                'OPA' : opa,\n",
    "                'Address' : address,\n",
    "                'County' : 'Philadelphia',\n",
    "                'Base District Zoning' : district_zone\n",
    "            })\n",
    "        \n",
    "        except AttributeError:\n",
    "            pass\n",
    "    \n",
    "    return pd.DataFrame(new_df)"
   ]
  },
  {
   "cell_type": "code",
   "execution_count": null,
   "metadata": {},
   "outputs": [],
   "source": [
    "create_df(\"OPA list.xlsx - Auction List.csv\")"
   ]
  },
  {
   "cell_type": "code",
   "execution_count": null,
   "metadata": {},
   "outputs": [],
   "source": []
  }
 ],
 "metadata": {
  "interpreter": {
   "hash": "fd5f0602b361fcd80b6e43c9db32d5ff96b182a40640908c77b502a93aa9387e"
  },
  "kernelspec": {
   "display_name": "Python 3.9.7 ('base')",
   "language": "python",
   "name": "python3"
  },
  "language_info": {
   "codemirror_mode": {
    "name": "ipython",
    "version": 3
   },
   "file_extension": ".py",
   "mimetype": "text/x-python",
   "name": "python",
   "nbconvert_exporter": "python",
   "pygments_lexer": "ipython3",
   "version": "3.9.7"
  },
  "orig_nbformat": 4
 },
 "nbformat": 4,
 "nbformat_minor": 2
}
